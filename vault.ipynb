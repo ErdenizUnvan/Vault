{
 "cells": [
  {
   "cell_type": "code",
   "execution_count": 1,
   "id": "e69f46d8",
   "metadata": {},
   "outputs": [
    {
     "name": "stdout",
     "output_type": "stream",
     "text": [
      "Requirement already satisfied: cryptography in c:\\users\\dell\\anaconda3\\envs\\erdi\\lib\\site-packages (3.4.7)\n",
      "Requirement already satisfied: cffi>=1.12 in c:\\users\\dell\\anaconda3\\envs\\erdi\\lib\\site-packages (from cryptography) (1.17.1)\n",
      "Requirement already satisfied: pycparser in c:\\users\\dell\\anaconda3\\envs\\erdi\\lib\\site-packages (from cffi>=1.12->cryptography) (2.20)\n"
     ]
    }
   ],
   "source": [
    "!pip install  cryptography"
   ]
  },
  {
   "cell_type": "code",
   "execution_count": 2,
   "id": "bbd8823f",
   "metadata": {},
   "outputs": [
    {
     "data": {
      "text/plain": [
       "{'host': 'sandbox-nxos-1.cisco.com',\n",
       " 'port': 22,\n",
       " 'username': 'admin',\n",
       " 'password': 'Admin_1234!',\n",
       " 'device_type': 'cisco_nxos'}"
      ]
     },
     "execution_count": 2,
     "metadata": {},
     "output_type": "execute_result"
    }
   ],
   "source": [
    "nxos={\n",
    "        \"host\": \"sandbox-nxos-1.cisco.com\",\n",
    "        \"port\": 22,\n",
    "        \"username\": \"admin\",\n",
    "        \"password\": \"Admin_1234!\",\n",
    "        \"device_type\": \"cisco_nxos\"\n",
    "    }\n",
    "nxos"
   ]
  },
  {
   "cell_type": "code",
   "execution_count": 3,
   "id": "f1334c13",
   "metadata": {},
   "outputs": [],
   "source": [
    "from cryptography.fernet import Fernet\n",
    "import os\n",
    "import base64\n",
    "import hashlib\n",
    "from getpass import getpass\n",
    "from netmiko import ConnectHandler"
   ]
  },
  {
   "cell_type": "code",
   "execution_count": 4,
   "id": "61b478eb",
   "metadata": {},
   "outputs": [],
   "source": [
    "def generate_key(password: str) -> bytes:\n",
    "    # Generate a key based on the password\n",
    "    key = hashlib.sha256(password.encode()).digest()\n",
    "    return base64.urlsafe_b64encode(key)"
   ]
  },
  {
   "cell_type": "code",
   "execution_count": 5,
   "id": "154d4b7a",
   "metadata": {},
   "outputs": [
    {
     "name": "stdin",
     "output_type": "stream",
     "text": [
      " ········\n"
     ]
    }
   ],
   "source": [
    "# User getpass for password\n",
    "password = getpass()\n"
   ]
  },
  {
   "cell_type": "code",
   "execution_count": 6,
   "id": "d4d1969f",
   "metadata": {},
   "outputs": [
    {
     "data": {
      "text/plain": [
       "b'mJLFM50TqUzAM4TmCXmPTkaI2s-Vu4lv5gkxJV8FTiA='"
      ]
     },
     "execution_count": 6,
     "metadata": {},
     "output_type": "execute_result"
    }
   ],
   "source": [
    "\n",
    "# Generate key from password\n",
    "key = generate_key(password)\n",
    "key"
   ]
  },
  {
   "cell_type": "code",
   "execution_count": 7,
   "id": "e8791482",
   "metadata": {},
   "outputs": [
    {
     "data": {
      "text/plain": [
       "<cryptography.fernet.Fernet at 0x1a90c343610>"
      ]
     },
     "execution_count": 7,
     "metadata": {},
     "output_type": "execute_result"
    }
   ],
   "source": [
    "cipher = Fernet(key)\n",
    "cipher"
   ]
  },
  {
   "cell_type": "code",
   "execution_count": 8,
   "id": "0a14078d",
   "metadata": {},
   "outputs": [
    {
     "name": "stdin",
     "output_type": "stream",
     "text": [
      " ········\n"
     ]
    },
    {
     "data": {
      "text/plain": [
       "{'device1': {'ip': 'sandbox-nxos-1.cisco.com',\n",
       "  'username': 'admin',\n",
       "  'password': 'Admin_1234!'}}"
      ]
     },
     "execution_count": 8,
     "metadata": {},
     "output_type": "execute_result"
    }
   ],
   "source": [
    "# Store credentials in a dictionary\n",
    "credentials = {\n",
    "    \"device1\": {\n",
    "        \"ip\": \"sandbox-nxos-1.cisco.com\",\n",
    "        \"username\": \"admin\",\n",
    "        \"password\": getpass()\n",
    "    }\n",
    "}\n",
    "credentials"
   ]
  },
  {
   "cell_type": "code",
   "execution_count": 9,
   "id": "1e6f5a76",
   "metadata": {},
   "outputs": [
    {
     "name": "stdout",
     "output_type": "stream",
     "text": [
      "device1\n"
     ]
    }
   ],
   "source": [
    "for x,y in credentials.items():\n",
    "    print(x)"
   ]
  },
  {
   "cell_type": "code",
   "execution_count": 10,
   "id": "5e4391da",
   "metadata": {},
   "outputs": [
    {
     "name": "stdout",
     "output_type": "stream",
     "text": [
      "{'ip': 'sandbox-nxos-1.cisco.com', 'username': 'admin', 'password': 'Admin_1234!'}\n"
     ]
    }
   ],
   "source": [
    "for x,y in credentials.items():\n",
    "    print(y)"
   ]
  },
  {
   "cell_type": "code",
   "execution_count": 11,
   "id": "09881881",
   "metadata": {},
   "outputs": [
    {
     "name": "stdout",
     "output_type": "stream",
     "text": [
      "sandbox-nxos-1.cisco.com\n"
     ]
    }
   ],
   "source": [
    "for x,y in credentials.items():\n",
    "    print(y['ip'])"
   ]
  },
  {
   "cell_type": "code",
   "execution_count": 12,
   "id": "f7e61418",
   "metadata": {},
   "outputs": [
    {
     "name": "stdout",
     "output_type": "stream",
     "text": [
      "admin\n"
     ]
    }
   ],
   "source": [
    "for x,y in credentials.items():\n",
    "    print(y['username'])"
   ]
  },
  {
   "cell_type": "code",
   "execution_count": 13,
   "id": "cb31d9f1",
   "metadata": {},
   "outputs": [
    {
     "name": "stdout",
     "output_type": "stream",
     "text": [
      "Admin_1234!\n"
     ]
    }
   ],
   "source": [
    "for x,y in credentials.items():\n",
    "    print(y['password'])"
   ]
  },
  {
   "cell_type": "code",
   "execution_count": 14,
   "id": "15d958e7",
   "metadata": {},
   "outputs": [
    {
     "data": {
      "text/plain": [
       "['device1|sandbox-nxos-1.cisco.com|admin|gAAAAABn18wluiS0fjhKRfEa2viz3iQjEDJC3AJorF72S02ShCJuz_INpIdxcj2j8TlxrIcOjaf_1OuxsPEdB6CSLfEGYGymSA==']"
      ]
     },
     "execution_count": 14,
     "metadata": {},
     "output_type": "execute_result"
    }
   ],
   "source": [
    "# Prepare encrypted credentials\n",
    "encrypted_credentials = []\n",
    "for device, info in credentials.items():\n",
    "    encrypted_password = cipher.encrypt(info['password'].encode()).decode()\n",
    "    encrypted_credentials.append(f\"{device}|{info['ip']}|{info['username']}|{encrypted_password}\")\n",
    "encrypted_credentials"
   ]
  },
  {
   "cell_type": "code",
   "execution_count": 15,
   "id": "a8ad7613",
   "metadata": {},
   "outputs": [],
   "source": [
    "\n",
    "# Save encrypted credentials to a text file\n",
    "with open('credentials.txt', 'w') as file:\n",
    "    for line in encrypted_credentials:\n",
    "        file.write(line + '\\n')"
   ]
  },
  {
   "cell_type": "code",
   "execution_count": 16,
   "id": "ce4f17a8",
   "metadata": {},
   "outputs": [
    {
     "data": {
      "text/plain": [
       "b'device1|sandbox-nxos-1.cisco.com|admin|gAAAAABn18wluiS0fjhKRfEa2viz3iQjEDJC3AJorF72S02ShCJuz_INpIdxcj2j8TlxrIcOjaf_1OuxsPEdB6CSLfEGYGymSA==\\r\\n'"
      ]
     },
     "execution_count": 16,
     "metadata": {},
     "output_type": "execute_result"
    }
   ],
   "source": [
    "# Encrypt the entire credentials file with password protection\n",
    "with open('credentials.txt', 'rb') as file:\n",
    "    original_data = file.read()\n",
    "original_data"
   ]
  },
  {
   "cell_type": "code",
   "execution_count": 17,
   "id": "e30ea018",
   "metadata": {},
   "outputs": [
    {
     "data": {
      "text/plain": [
       "b'gAAAAABn18xFBh7gv6Y9wgXliTIZOZYfs33HAFEpshx9je6SkA3_9AN6lK7d2xWojVaaR3IWfCqSd0vLFbtNrQq5imwd8O-f5UnqZ1rXe6yln6WFxVwx1IEe0pievOWEaJeOYxBFEC_dTRIQ6Js5BcHZrboxjKF0LNseLUPh74KWzs1xEmJQZBuRESSV-4odaJiTxRrftOgUEVqd_qnzuhIbdZdOw-3GEHINppeLYPgVId30jHiUSNx_zBxSUmhfd4kfjqbj6fVA'"
      ]
     },
     "execution_count": 17,
     "metadata": {},
     "output_type": "execute_result"
    }
   ],
   "source": [
    "encrypted_data = cipher.encrypt(original_data)\n",
    "encrypted_data"
   ]
  },
  {
   "cell_type": "code",
   "execution_count": 18,
   "id": "5654aac1",
   "metadata": {},
   "outputs": [],
   "source": [
    "# Write the encrypted data to a new file\n",
    "with open('credentials_encrypted.txt', 'wb') as file:\n",
    "    file.write(encrypted_data)"
   ]
  },
  {
   "cell_type": "code",
   "execution_count": 19,
   "id": "bfd473b3",
   "metadata": {},
   "outputs": [
    {
     "name": "stdout",
     "output_type": "stream",
     "text": [
      "Credentials have been encrypted and stored in 'credentials_encrypted.txt'.\n"
     ]
    }
   ],
   "source": [
    "# Optionally remove the original credentials file\n",
    "os.remove('credentials.txt')\n",
    "\n",
    "print(\"Credentials have been encrypted and stored in 'credentials_encrypted.txt'.\")\n"
   ]
  },
  {
   "cell_type": "raw",
   "id": "f74bc57f",
   "metadata": {},
   "source": [
    "sifre ile ziple\n",
    "Admin_1234!"
   ]
  },
  {
   "cell_type": "code",
   "execution_count": 20,
   "id": "f7d01a8b",
   "metadata": {},
   "outputs": [
    {
     "name": "stdout",
     "output_type": "stream",
     "text": [
      "Requirement already satisfied: pyzipper in c:\\users\\dell\\anaconda3\\envs\\erdi\\lib\\site-packages (0.3.6)\n",
      "Requirement already satisfied: pycryptodomex in c:\\users\\dell\\anaconda3\\envs\\erdi\\lib\\site-packages (from pyzipper) (3.21.0)\n"
     ]
    }
   ],
   "source": [
    "!pip install pyzipper"
   ]
  },
  {
   "cell_type": "code",
   "execution_count": 21,
   "id": "33537d1e",
   "metadata": {},
   "outputs": [],
   "source": [
    "import pyzipper\n",
    "\n",
    "zip_file = 'credentials_encrypted.zip'\n",
    "password = 'Admin_1234!'\n",
    "\n",
    "with pyzipper.AESZipFile(zip_file) as zf:\n",
    "    zf.setpassword(bytes(password, 'utf-8'))\n",
    "    zf.extractall()  # Extract all contents\n"
   ]
  },
  {
   "cell_type": "code",
   "execution_count": 22,
   "id": "d38ded15",
   "metadata": {},
   "outputs": [
    {
     "name": "stdin",
     "output_type": "stream",
     "text": [
      " ········\n"
     ]
    },
    {
     "name": "stdout",
     "output_type": "stream",
     "text": [
      "b'gAAAAABn18xFBh7gv6Y9wgXliTIZOZYfs33HAFEpshx9je6SkA3_9AN6lK7d2xWojVaaR3IWfCqSd0vLFbtNrQq5imwd8O-f5UnqZ1rXe6yln6WFxVwx1IEe0pievOWEaJeOYxBFEC_dTRIQ6Js5BcHZrboxjKF0LNseLUPh74KWzs1xEmJQZBuRESSV-4odaJiTxRrftOgUEVqd_qnzuhIbdZdOw-3GEHINppeLYPgVId30jHiUSNx_zBxSUmhfd4kfjqbj6fVA'\n"
     ]
    }
   ],
   "source": [
    "# User input for password\n",
    "password = getpass()\n",
    "\n",
    "# Generate key from password\n",
    "key = generate_key(password)\n",
    "cipher = Fernet(key)\n",
    "\n",
    "# Load encrypted credentials from the text file\n",
    "with open('credentials_encrypted.txt', 'rb') as file:\n",
    "    encrypted_data = file.read()\n",
    "print(encrypted_data)\n"
   ]
  },
  {
   "cell_type": "code",
   "execution_count": 23,
   "id": "870f2364",
   "metadata": {},
   "outputs": [
    {
     "name": "stdout",
     "output_type": "stream",
     "text": [
      "device1|sandbox-nxos-1.cisco.com|admin|gAAAAABn18wluiS0fjhKRfEa2viz3iQjEDJC3AJorF72S02ShCJuz_INpIdxcj2j8TlxrIcOjaf_1OuxsPEdB6CSLfEGYGymSA==\n",
      "\n"
     ]
    }
   ],
   "source": [
    "# Decrypt the credentials data\n",
    "try:\n",
    "    original_data = cipher.decrypt(encrypted_data).decode()\n",
    "except Exception as e:\n",
    "    print(\"Failed to decrypt the file. Check the password.\")\n",
    "    exit()\n",
    "print(original_data)"
   ]
  },
  {
   "cell_type": "code",
   "execution_count": 24,
   "id": "8cf59e39",
   "metadata": {},
   "outputs": [
    {
     "name": "stdout",
     "output_type": "stream",
     "text": [
      "{'device_type': 'cisco_nxos', 'host': 'sandbox-nxos-1.cisco.com', 'username': 'admin', 'password': 'Admin_1234!'}\n"
     ]
    }
   ],
   "source": [
    "\n",
    "\n",
    "# Split lines and extract device info\n",
    "lines = original_data.splitlines()\n",
    "for line in lines:\n",
    "    device_info = line.strip().split('|')\n",
    "    device_name, ip, username, encrypted_password = device_info\n",
    "    \n",
    "    # Decrypt the password\n",
    "    decrypted_password = cipher.decrypt(encrypted_password.encode()).decode()\n",
    "\n",
    "    # Create a device connection\n",
    "    net_device = {\n",
    "        'device_type': 'cisco_nxos',  # Change this according to your device type\n",
    "        'host': ip,\n",
    "        'username': username,\n",
    "        'password': decrypted_password,\n",
    "    }\n",
    "print(net_device)"
   ]
  },
  {
   "cell_type": "code",
   "execution_count": null,
   "id": "c68c728f",
   "metadata": {},
   "outputs": [],
   "source": []
  },
  {
   "cell_type": "code",
   "execution_count": null,
   "id": "9bb5fc73",
   "metadata": {},
   "outputs": [],
   "source": []
  },
  {
   "cell_type": "code",
   "execution_count": null,
   "id": "ff7a3274",
   "metadata": {},
   "outputs": [],
   "source": []
  }
 ],
 "metadata": {
  "kernelspec": {
   "display_name": "Python 3 (ipykernel)",
   "language": "python",
   "name": "python3"
  },
  "language_info": {
   "codemirror_mode": {
    "name": "ipython",
    "version": 3
   },
   "file_extension": ".py",
   "mimetype": "text/x-python",
   "name": "python",
   "nbconvert_exporter": "python",
   "pygments_lexer": "ipython3",
   "version": "3.8.8"
  }
 },
 "nbformat": 4,
 "nbformat_minor": 5
}
