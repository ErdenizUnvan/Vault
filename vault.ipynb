{
 "cells": [
  {
   "cell_type": "code",
   "execution_count": 1,
   "id": "dda6a99f",
   "metadata": {},
   "outputs": [],
   "source": [
    "from cryptography.fernet import Fernet\n",
    "import os\n",
    "import base64\n",
    "import hashlib\n",
    "from getpass import getpass"
   ]
  },
  {
   "cell_type": "code",
   "execution_count": 2,
   "id": "4e3a05f8",
   "metadata": {},
   "outputs": [],
   "source": [
    "def generate_key(password: str) -> bytes:\n",
    "    # Generate a key based on the password\n",
    "    key = hashlib.sha256(password.encode()).digest()\n",
    "    return base64.urlsafe_b64encode(key)"
   ]
  },
  {
   "cell_type": "code",
   "execution_count": 30,
   "id": "6888bb2b",
   "metadata": {},
   "outputs": [
    {
     "name": "stdin",
     "output_type": "stream",
     "text": [
      " ········\n",
      " ········\n",
      " ········\n",
      " ········\n",
      " ········\n"
     ]
    },
    {
     "data": {
      "text/plain": [
       "{'server_ip': '10.1.100.88',\n",
       " 'server_username': 'kc',\n",
       " 'server_password': 'password',\n",
       " 'device_username': 'eunvan',\n",
       " 'device_password': 'Passw0rd1!'}"
      ]
     },
     "execution_count": 30,
     "metadata": {},
     "output_type": "execute_result"
    }
   ],
   "source": [
    "# Store credentials in a dictionary\n",
    "credentials1 ={'server_ip':getpass(),\n",
    "               'server_username':getpass(),\n",
    "               'server_password':getpass(),\n",
    "              'device_username':getpass(),\n",
    "               'device_password':getpass()}\n",
    "#server_ip:10.1.100.88\n",
    "#server_username: kc\n",
    "#server_password: password\n",
    "#device_username:eunvan\n",
    "#device_password:Passw0rd1!\n",
    "credentials1"
   ]
  },
  {
   "cell_type": "code",
   "execution_count": 31,
   "id": "c9387a9c",
   "metadata": {},
   "outputs": [
    {
     "name": "stdin",
     "output_type": "stream",
     "text": [
      " ········\n"
     ]
    }
   ],
   "source": [
    "# User getpass for password\n",
    "password1 = getpass() #password1"
   ]
  },
  {
   "cell_type": "code",
   "execution_count": 32,
   "id": "5f0bc626",
   "metadata": {},
   "outputs": [
    {
     "data": {
      "text/plain": [
       "b'CxTVAaWURCoBxoWVQbyz6BZNGD0yk3uFGDVEL2nVyU4='"
      ]
     },
     "execution_count": 32,
     "metadata": {},
     "output_type": "execute_result"
    }
   ],
   "source": [
    "\n",
    "# Generate key from password\n",
    "key1 = generate_key(password1)\n",
    "key1"
   ]
  },
  {
   "cell_type": "code",
   "execution_count": 33,
   "id": "7d56793c",
   "metadata": {},
   "outputs": [
    {
     "data": {
      "text/plain": [
       "<cryptography.fernet.Fernet at 0x15b8f415430>"
      ]
     },
     "execution_count": 33,
     "metadata": {},
     "output_type": "execute_result"
    }
   ],
   "source": [
    "cipher1 = Fernet(key1)\n",
    "cipher1"
   ]
  },
  {
   "cell_type": "code",
   "execution_count": 34,
   "id": "5bbcba4a-9ccf-41bc-ad25-06fc05f9ed77",
   "metadata": {},
   "outputs": [
    {
     "data": {
      "text/plain": [
       "{'server_ip': '10.1.100.88',\n",
       " 'server_username': 'kc',\n",
       " 'server_password': 'password',\n",
       " 'device_username': 'eunvan',\n",
       " 'device_password': 'Passw0rd1!'}"
      ]
     },
     "execution_count": 34,
     "metadata": {},
     "output_type": "execute_result"
    }
   ],
   "source": [
    "credentials1"
   ]
  },
  {
   "cell_type": "code",
   "execution_count": 35,
   "id": "31769a26",
   "metadata": {},
   "outputs": [
    {
     "data": {
      "text/plain": [
       "['10.1.100.88|kc|gAAAAABn2HJ0158e3OX4vxuYrzm5wMcwO5alJmN3o0Cr64BSz-RQrY7f_Q1ZVaG8cqTPNab4B0IBHb1VTA5yzvy373IBQKRydA==|eunvan|gAAAAABn2G17WQfSKDB9jyhsQPm7u4Chd9x7LkRKKHGY97d4Eq4NSBdbl5EYf9a8jy4z9c6tNuh0zRpOeYFky4SCE0tdgq0-fw==']"
      ]
     },
     "execution_count": 35,
     "metadata": {},
     "output_type": "execute_result"
    }
   ],
   "source": [
    "encrypted_credentials = []\n",
    "server_ip=credentials1['server_ip']\n",
    "server_username=credentials1['server_username']\n",
    "server_password = cipher1.encrypt(credentials1['server_password'].encode()).decode()\n",
    "device_username=credentials1['device_username']\n",
    "device_password = cipher1.encrypt(credentials1['device_password'].encode()).decode()\n",
    "encrypted_credentials.append(f\"{server_ip}|{server_username}|{server_password}|{device_username}|{encrypted_password1}\")\n",
    "encrypted_credentials"
   ]
  },
  {
   "cell_type": "code",
   "execution_count": 38,
   "id": "f70b37ec",
   "metadata": {},
   "outputs": [],
   "source": [
    "# Save encrypted credentials to a text file\n",
    "with open('credentials1.txt', 'w') as file:\n",
    "    for line in encrypted_credentials:\n",
    "        file.write(line + '\\n')"
   ]
  },
  {
   "cell_type": "code",
   "execution_count": 39,
   "id": "4fe9673a",
   "metadata": {},
   "outputs": [
    {
     "data": {
      "text/plain": [
       "b'10.1.100.88|kc|gAAAAABn2HJ0158e3OX4vxuYrzm5wMcwO5alJmN3o0Cr64BSz-RQrY7f_Q1ZVaG8cqTPNab4B0IBHb1VTA5yzvy373IBQKRydA==|eunvan|gAAAAABn2G17WQfSKDB9jyhsQPm7u4Chd9x7LkRKKHGY97d4Eq4NSBdbl5EYf9a8jy4z9c6tNuh0zRpOeYFky4SCE0tdgq0-fw==\\r\\n'"
      ]
     },
     "execution_count": 39,
     "metadata": {},
     "output_type": "execute_result"
    }
   ],
   "source": [
    "# Encrypt the entire credentials file with password protection\n",
    "with open('credentials1.txt', 'rb') as file:\n",
    "    original_data1 = file.read()\n",
    "original_data1"
   ]
  },
  {
   "cell_type": "code",
   "execution_count": 40,
   "id": "5270d385",
   "metadata": {},
   "outputs": [
    {
     "name": "stdin",
     "output_type": "stream",
     "text": [
      " ········\n"
     ]
    }
   ],
   "source": [
    "password2 = getpass() #password2\n",
    "key2 = generate_key(password2)\n",
    "cipher2 = Fernet(key2)"
   ]
  },
  {
   "cell_type": "code",
   "execution_count": 41,
   "id": "72a26606",
   "metadata": {},
   "outputs": [
    {
     "data": {
      "text/plain": [
       "b'gAAAAABn2HK1Bd3wmYd9itI5O410krb8eyT8Pda4jN-OPPC55OQQL3W1qwxP2ELUpDEdX2rZj0mU7CT9sw1ycADioyYdgUZwMuPYiu_wkUYrNbTc78Cs3q6_8wKfxHVcPsNbK1PZf2gnc3kVxn8cr8-WF27wSYqkkZMrp-Fly9atDg8jKTOKA-0IVdNG-xYpk-7xMHpLyvrTU951pSDlIg6AeaxLWv0RFAJibAbrypduRV1twIkala7XPgSHlSZoARzcNEc1ZIvG44JwqPnCSD2sbnq3oMeMUyFMDhBdy246VvhncMMQ6U7It4itAfZZ4xWSswbXu0NJ2ASvxwo7eiXd2Z53-viU2lc-alxd5_ozNO4BUOfXwis-wT24k_TvIizfIJcfPJXZ'"
      ]
     },
     "execution_count": 41,
     "metadata": {},
     "output_type": "execute_result"
    }
   ],
   "source": [
    "encrypted_data1 = cipher2.encrypt(original_data1)\n",
    "encrypted_data1"
   ]
  },
  {
   "cell_type": "code",
   "execution_count": 42,
   "id": "243fb4a8",
   "metadata": {},
   "outputs": [],
   "source": [
    "# Write the encrypted data to a new file\n",
    "with open('credentials_encrypted1.txt', 'wb') as file:\n",
    "    file.write(encrypted_data1)"
   ]
  },
  {
   "cell_type": "code",
   "execution_count": 43,
   "id": "2251454c",
   "metadata": {},
   "outputs": [
    {
     "name": "stdout",
     "output_type": "stream",
     "text": [
      "Credentials have been encrypted and stored in 'credentials_encrypted1.txt'.\n"
     ]
    }
   ],
   "source": [
    "# Optionally remove the original credentials file\n",
    "os.remove('credentials1.txt')\n",
    "\n",
    "print(\"Credentials have been encrypted and stored in 'credentials_encrypted1.txt'.\")\n"
   ]
  },
  {
   "cell_type": "code",
   "execution_count": null,
   "id": "0c2b49aa",
   "metadata": {},
   "outputs": [],
   "source": [
    "#zip dosyasi olusturuldu\n",
    "#credentials_encrypted1.zip\n",
    "#password = Admin_1234!"
   ]
  },
  {
   "cell_type": "code",
   "execution_count": 44,
   "id": "b85ba677",
   "metadata": {},
   "outputs": [
    {
     "name": "stdout",
     "output_type": "stream",
     "text": [
      "Credentials have been encrypted and stored in 'credentials_encrypted1.zip'.\n"
     ]
    }
   ],
   "source": [
    "# Optionally remove the original credentials file\n",
    "os.remove('credentials_encrypted1.txt')\n",
    "\n",
    "print(\"Credentials have been encrypted and stored in 'credentials_encrypted1.zip'.\")\n"
   ]
  },
  {
   "cell_type": "code",
   "execution_count": 45,
   "id": "315423f4",
   "metadata": {},
   "outputs": [],
   "source": [
    "import pyzipper\n",
    "\n",
    "zip_file = 'credentials_encrypted1.zip'\n",
    "password = 'Admin_1234!'\n",
    "\n",
    "with pyzipper.AESZipFile(zip_file) as zf:\n",
    "    zf.setpassword(bytes(password, 'utf-8'))\n",
    "    zf.extractall()  # Extract all contents\n"
   ]
  },
  {
   "cell_type": "code",
   "execution_count": 46,
   "id": "440f2823",
   "metadata": {},
   "outputs": [
    {
     "name": "stdin",
     "output_type": "stream",
     "text": [
      " ········\n"
     ]
    }
   ],
   "source": [
    "#cipher2 icin password2' yi kullan\n",
    "\n",
    "# User input for password\n",
    "password = getpass()\n",
    "\n",
    "# Generate key from password\n",
    "key = generate_key(password)\n",
    "cipher2 = Fernet(key)\n",
    "\n"
   ]
  },
  {
   "cell_type": "code",
   "execution_count": 47,
   "id": "19b351aa-a231-4fa1-9952-6ac0e8408561",
   "metadata": {},
   "outputs": [
    {
     "name": "stdout",
     "output_type": "stream",
     "text": [
      "b'gAAAAABn2HK1Bd3wmYd9itI5O410krb8eyT8Pda4jN-OPPC55OQQL3W1qwxP2ELUpDEdX2rZj0mU7CT9sw1ycADioyYdgUZwMuPYiu_wkUYrNbTc78Cs3q6_8wKfxHVcPsNbK1PZf2gnc3kVxn8cr8-WF27wSYqkkZMrp-Fly9atDg8jKTOKA-0IVdNG-xYpk-7xMHpLyvrTU951pSDlIg6AeaxLWv0RFAJibAbrypduRV1twIkala7XPgSHlSZoARzcNEc1ZIvG44JwqPnCSD2sbnq3oMeMUyFMDhBdy246VvhncMMQ6U7It4itAfZZ4xWSswbXu0NJ2ASvxwo7eiXd2Z53-viU2lc-alxd5_ozNO4BUOfXwis-wT24k_TvIizfIJcfPJXZ'\n"
     ]
    }
   ],
   "source": [
    "# Load encrypted credentials from the text file\n",
    "with open('credentials_encrypted1.txt', 'rb') as file:\n",
    "    encrypted_data = file.read()\n",
    "print(encrypted_data)\n"
   ]
  },
  {
   "cell_type": "code",
   "execution_count": 48,
   "id": "ec754011",
   "metadata": {},
   "outputs": [
    {
     "name": "stdout",
     "output_type": "stream",
     "text": [
      "10.1.100.88|kc|gAAAAABn2HJ0158e3OX4vxuYrzm5wMcwO5alJmN3o0Cr64BSz-RQrY7f_Q1ZVaG8cqTPNab4B0IBHb1VTA5yzvy373IBQKRydA==|eunvan|gAAAAABn2G17WQfSKDB9jyhsQPm7u4Chd9x7LkRKKHGY97d4Eq4NSBdbl5EYf9a8jy4z9c6tNuh0zRpOeYFky4SCE0tdgq0-fw==\n",
      "\n"
     ]
    }
   ],
   "source": [
    "# Decrypt the credentials data\n",
    "try:\n",
    "    original_data = cipher2.decrypt(encrypted_data).decode()\n",
    "except Exception as e:\n",
    "    print(\"Failed to decrypt the file. Check the password.\")\n",
    "    exit()\n",
    "print(original_data)"
   ]
  },
  {
   "cell_type": "code",
   "execution_count": 49,
   "id": "213d86b1",
   "metadata": {},
   "outputs": [
    {
     "name": "stdin",
     "output_type": "stream",
     "text": [
      " ········\n"
     ]
    }
   ],
   "source": [
    "#cipher1 icin password1' i kullan\n",
    "\n",
    "# User input for password\n",
    "password = getpass()\n",
    "\n",
    "# Generate key from password\n",
    "key = generate_key(password)\n",
    "cipher1 = Fernet(key)\n",
    "\n"
   ]
  },
  {
   "cell_type": "code",
   "execution_count": 51,
   "id": "c8f4ffd7",
   "metadata": {},
   "outputs": [
    {
     "name": "stdout",
     "output_type": "stream",
     "text": [
      "10.1.100.88\n",
      "kc\n",
      "password\n",
      "eunvan\n",
      "Passw0rd1!\n"
     ]
    }
   ],
   "source": [
    "server_ip,server_username,server_password,device_username,device_password=original_data.split('|')\n",
    "decrypted_server_password=cipher1.decrypt(server_password.encode()).decode()\n",
    "decrypted_device_password=cipher1.decrypt(device_password.encode()).decode()\n",
    "print(server_ip)\n",
    "print(server_username)\n",
    "print(decrypted_server_password)\n",
    "print(device_username)\n",
    "print(decrypted_device_password)"
   ]
  },
  {
   "cell_type": "code",
   "execution_count": null,
   "id": "a2dd9d26",
   "metadata": {},
   "outputs": [],
   "source": []
  }
 ],
 "metadata": {
  "kernelspec": {
   "display_name": "Python 3 (ipykernel)",
   "language": "python",
   "name": "python3"
  },
  "language_info": {
   "codemirror_mode": {
    "name": "ipython",
    "version": 3
   },
   "file_extension": ".py",
   "mimetype": "text/x-python",
   "name": "python",
   "nbconvert_exporter": "python",
   "pygments_lexer": "ipython3",
   "version": "3.8.8"
  }
 },
 "nbformat": 4,
 "nbformat_minor": 5
}
